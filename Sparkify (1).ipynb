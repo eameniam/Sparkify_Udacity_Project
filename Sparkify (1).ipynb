{
 "cells": [
  {
   "cell_type": "markdown",
   "metadata": {},
   "source": [
    "# Sparkify Project Workspace\n",
    "This workspace contains a tiny subset (128MB) of the full dataset available (12GB). Feel free to use this workspace to build your project, or to explore a smaller subset with Spark before deploying your cluster on the cloud. Instructions for setting up your Spark cluster is included in the last lesson of the Extracurricular Spark Course content.\n",
    "\n",
    "You can follow the steps below to guide your data analysis and model building portion of this project."
   ]
  },
  {
   "cell_type": "code",
   "execution_count": 1,
   "metadata": {},
   "outputs": [],
   "source": [
    "# import libraries\n",
    "from pyspark.sql import SparkSession\n",
    "from pyspark.sql.functions import isnan, count, when, col, desc, udf, sort_array, asc, avg\n",
    "from pyspark.sql.types import IntegerType"
   ]
  },
  {
   "cell_type": "code",
   "execution_count": 2,
   "metadata": {},
   "outputs": [],
   "source": [
    "# create a Spark session\n",
    "spark = SparkSession \\\n",
    "    .builder \\\n",
    "    .appName(\"Sparkify_Project\") \\\n",
    "    .getOrCreate()"
   ]
  },
  {
   "cell_type": "markdown",
   "metadata": {},
   "source": [
    "# Load and Clean Dataset\n",
    "In this workspace, the mini-dataset file is `mini_sparkify_event_data.json`. Load and clean the dataset, checking for invalid or missing data - for example, records without userids or sessionids. "
   ]
  },
  {
   "cell_type": "markdown",
   "metadata": {},
   "source": [
    "## Loading and reading the basic information of dataset\n",
    "To begin the total project, we want to load the dataset and check the columns or rows we have in the dataset"
   ]
  },
  {
   "cell_type": "code",
   "execution_count": 3,
   "metadata": {},
   "outputs": [],
   "source": [
    "#Load Dataset\n",
    "df = spark.read.json(\"mini_sparkify_event_data.json\")"
   ]
  },
  {
   "cell_type": "code",
   "execution_count": 4,
   "metadata": {},
   "outputs": [
    {
     "name": "stdout",
     "output_type": "stream",
     "text": [
      "root\n",
      " |-- artist: string (nullable = true)\n",
      " |-- auth: string (nullable = true)\n",
      " |-- firstName: string (nullable = true)\n",
      " |-- gender: string (nullable = true)\n",
      " |-- itemInSession: long (nullable = true)\n",
      " |-- lastName: string (nullable = true)\n",
      " |-- length: double (nullable = true)\n",
      " |-- level: string (nullable = true)\n",
      " |-- location: string (nullable = true)\n",
      " |-- method: string (nullable = true)\n",
      " |-- page: string (nullable = true)\n",
      " |-- registration: long (nullable = true)\n",
      " |-- sessionId: long (nullable = true)\n",
      " |-- song: string (nullable = true)\n",
      " |-- status: long (nullable = true)\n",
      " |-- ts: long (nullable = true)\n",
      " |-- userAgent: string (nullable = true)\n",
      " |-- userId: string (nullable = true)\n",
      "\n"
     ]
    }
   ],
   "source": [
    "#Get basic information in dataset\n",
    "df.printSchema()"
   ]
  },
  {
   "cell_type": "code",
   "execution_count": 5,
   "metadata": {},
   "outputs": [
    {
     "data": {
      "text/plain": [
       "286500"
      ]
     },
     "execution_count": 5,
     "metadata": {},
     "output_type": "execute_result"
    }
   ],
   "source": [
    "# Total rows inside the dataset\n",
    "df.count()"
   ]
  },
  {
   "cell_type": "code",
   "execution_count": 6,
   "metadata": {
    "scrolled": false
   },
   "outputs": [
    {
     "name": "stdout",
     "output_type": "stream",
     "text": [
      "+-------+------------------+\n",
      "|summary|            artist|\n",
      "+-------+------------------+\n",
      "|  count|            228108|\n",
      "|   mean| 551.0852017937219|\n",
      "| stddev|1217.7693079161374|\n",
      "|    min|               !!!|\n",
      "|    max| ÃÂlafur Arnalds|\n",
      "+-------+------------------+\n",
      "\n",
      "None\n",
      "+-------+----------+\n",
      "|summary|      auth|\n",
      "+-------+----------+\n",
      "|  count|    286500|\n",
      "|   mean|      null|\n",
      "| stddev|      null|\n",
      "|    min| Cancelled|\n",
      "|    max|Logged Out|\n",
      "+-------+----------+\n",
      "\n",
      "None\n",
      "+-------+---------+\n",
      "|summary|firstName|\n",
      "+-------+---------+\n",
      "|  count|   278154|\n",
      "|   mean|     null|\n",
      "| stddev|     null|\n",
      "|    min| Adelaida|\n",
      "|    max|   Zyonna|\n",
      "+-------+---------+\n",
      "\n",
      "None\n",
      "+-------+------+\n",
      "|summary|gender|\n",
      "+-------+------+\n",
      "|  count|278154|\n",
      "|   mean|  null|\n",
      "| stddev|  null|\n",
      "|    min|     F|\n",
      "|    max|     M|\n",
      "+-------+------+\n",
      "\n",
      "None\n",
      "+-------+------------------+\n",
      "|summary|     itemInSession|\n",
      "+-------+------------------+\n",
      "|  count|            286500|\n",
      "|   mean|114.41421291448516|\n",
      "| stddev|129.76726201140994|\n",
      "|    min|                 0|\n",
      "|    max|              1321|\n",
      "+-------+------------------+\n",
      "\n",
      "None\n",
      "+-------+--------+\n",
      "|summary|lastName|\n",
      "+-------+--------+\n",
      "|  count|  278154|\n",
      "|   mean|    null|\n",
      "| stddev|    null|\n",
      "|    min|   Adams|\n",
      "|    max|  Wright|\n",
      "+-------+--------+\n",
      "\n",
      "None\n",
      "+-------+-----------------+\n",
      "|summary|           length|\n",
      "+-------+-----------------+\n",
      "|  count|           228108|\n",
      "|   mean|249.1171819778458|\n",
      "| stddev|99.23517921058361|\n",
      "|    min|          0.78322|\n",
      "|    max|       3024.66567|\n",
      "+-------+-----------------+\n",
      "\n",
      "None\n",
      "+-------+------+\n",
      "|summary| level|\n",
      "+-------+------+\n",
      "|  count|286500|\n",
      "|   mean|  null|\n",
      "| stddev|  null|\n",
      "|    min|  free|\n",
      "|    max|  paid|\n",
      "+-------+------+\n",
      "\n",
      "None\n",
      "+-------+-----------------+\n",
      "|summary|         location|\n",
      "+-------+-----------------+\n",
      "|  count|           278154|\n",
      "|   mean|             null|\n",
      "| stddev|             null|\n",
      "|    min|       Albany, OR|\n",
      "|    max|Winston-Salem, NC|\n",
      "+-------+-----------------+\n",
      "\n",
      "None\n",
      "+-------+------+\n",
      "|summary|method|\n",
      "+-------+------+\n",
      "|  count|286500|\n",
      "|   mean|  null|\n",
      "| stddev|  null|\n",
      "|    min|   GET|\n",
      "|    max|   PUT|\n",
      "+-------+------+\n",
      "\n",
      "None\n",
      "+-------+-------+\n",
      "|summary|   page|\n",
      "+-------+-------+\n",
      "|  count| 286500|\n",
      "|   mean|   null|\n",
      "| stddev|   null|\n",
      "|    min|  About|\n",
      "|    max|Upgrade|\n",
      "+-------+-------+\n",
      "\n",
      "None\n",
      "+-------+--------------------+\n",
      "|summary|        registration|\n",
      "+-------+--------------------+\n",
      "|  count|              278154|\n",
      "|   mean|1.535358834084427...|\n",
      "| stddev| 3.291321616327586E9|\n",
      "|    min|       1521380675000|\n",
      "|    max|       1543247354000|\n",
      "+-------+--------------------+\n",
      "\n",
      "None\n",
      "+-------+-----------------+\n",
      "|summary|        sessionId|\n",
      "+-------+-----------------+\n",
      "|  count|           286500|\n",
      "|   mean|1041.526554973822|\n",
      "| stddev|726.7762634630741|\n",
      "|    min|                1|\n",
      "|    max|             2474|\n",
      "+-------+-----------------+\n",
      "\n",
      "None\n",
      "+-------+--------------------+\n",
      "|summary|                song|\n",
      "+-------+--------------------+\n",
      "|  count|              228108|\n",
      "|   mean|            Infinity|\n",
      "| stddev|                 NaN|\n",
      "|    min|\u001c",
      "ÃÂg ÃÂtti Gr...|\n",
      "|    max|ÃÂau hafa slopp...|\n",
      "+-------+--------------------+\n",
      "\n",
      "None\n",
      "+-------+------------------+\n",
      "|summary|            status|\n",
      "+-------+------------------+\n",
      "|  count|            286500|\n",
      "|   mean|210.05459685863875|\n",
      "| stddev| 31.50507848842214|\n",
      "|    min|               200|\n",
      "|    max|               404|\n",
      "+-------+------------------+\n",
      "\n",
      "None\n",
      "+-------+--------------------+\n",
      "|summary|                  ts|\n",
      "+-------+--------------------+\n",
      "|  count|              286500|\n",
      "|   mean|1.540956889810483...|\n",
      "| stddev|1.5075439608226302E9|\n",
      "|    min|       1538352117000|\n",
      "|    max|       1543799476000|\n",
      "+-------+--------------------+\n",
      "\n",
      "None\n",
      "+-------+--------------------+\n",
      "|summary|           userAgent|\n",
      "+-------+--------------------+\n",
      "|  count|              278154|\n",
      "|   mean|                null|\n",
      "| stddev|                null|\n",
      "|    min|\"Mozilla/5.0 (Mac...|\n",
      "|    max|Mozilla/5.0 (comp...|\n",
      "+-------+--------------------+\n",
      "\n",
      "None\n",
      "+-------+-----------------+\n",
      "|summary|           userId|\n",
      "+-------+-----------------+\n",
      "|  count|           286500|\n",
      "|   mean|59682.02278593872|\n",
      "| stddev|109091.9499991047|\n",
      "|    min|                 |\n",
      "|    max|               99|\n",
      "+-------+-----------------+\n",
      "\n",
      "None\n"
     ]
    }
   ],
   "source": [
    "# Statistics of the column\n",
    "for items in df.schema.names:\n",
    "    print (df.describe(items).show())"
   ]
  },
  {
   "cell_type": "code",
   "execution_count": 7,
   "metadata": {},
   "outputs": [],
   "source": [
    "# Writing the function to find missing value in each column\n",
    "def finding_missing(df,col):\n",
    "    return df.filter((isnan(df[col])) | (df[col].isNull()) | (df[col] == \"\")).count()"
   ]
  },
  {
   "cell_type": "code",
   "execution_count": 8,
   "metadata": {},
   "outputs": [
    {
     "name": "stdout",
     "output_type": "stream",
     "text": [
      "missing values\n",
      "\n",
      "artist: 58392\n",
      "firstName: 8346\n",
      "gender: 8346\n",
      "lastName: 8346\n",
      "length: 58392\n",
      "location: 8346\n",
      "registration: 8346\n",
      "song: 58392\n",
      "userAgent: 8346\n",
      "userId: 8346\n"
     ]
    }
   ],
   "source": [
    "# Showing the missing value in each column\n",
    "print(\"missing values\\n\")\n",
    "for col in df.columns:\n",
    "    missing_count = finding_missing(df, col)\n",
    "    if missing_count > 0:\n",
    "        print(\"{}: {}\".format(col, missing_count))"
   ]
  },
  {
   "cell_type": "code",
   "execution_count": 9,
   "metadata": {},
   "outputs": [
    {
     "data": {
      "text/plain": [
       "278154"
      ]
     },
     "execution_count": 9,
     "metadata": {},
     "output_type": "execute_result"
    }
   ],
   "source": [
    "# filter for users with blank user id and session id\n",
    "df = df.dropna(how = \"any\",subset =[\"userId\",\"sessionId\"])\n",
    "df = df.filter(df['userID']!=\"\")\n",
    "# checking the total rows # after dropping the missing value\n",
    "df.count()"
   ]
  },
  {
   "cell_type": "markdown",
   "metadata": {},
   "source": [
    "# Exploratory Data Analysis\n",
    "When you're working with the full dataset, perform EDA by loading a small subset of the data and doing basic manipulations within Spark. In this workspace, you are already provided a small subset of data you can explore.\n",
    "\n",
    "### Define Churn\n",
    "\n",
    "Once you've done some preliminary analysis, create a column `Churn` to use as the label for your model. I suggest using the `Cancellation Confirmation` events to define your churn, which happen for both paid and free users. As a bonus task, you can also look into the `Downgrade` events.\n",
    "\n",
    "### Explore Data\n",
    "Once you've defined churn, perform some exploratory data analysis to observe the behavior for users who stayed vs users who churned. You can start by exploring aggregates on these two groups of users, observing how much of a specific action they experienced per a certain time unit or number of songs played."
   ]
  },
  {
   "cell_type": "code",
   "execution_count": 10,
   "metadata": {},
   "outputs": [
    {
     "name": "stdout",
     "output_type": "stream",
     "text": [
      "root\n",
      " |-- artist: string (nullable = true)\n",
      " |-- auth: string (nullable = true)\n",
      " |-- firstName: string (nullable = true)\n",
      " |-- gender: string (nullable = true)\n",
      " |-- itemInSession: long (nullable = true)\n",
      " |-- lastName: string (nullable = true)\n",
      " |-- length: double (nullable = true)\n",
      " |-- level: string (nullable = true)\n",
      " |-- location: string (nullable = true)\n",
      " |-- method: string (nullable = true)\n",
      " |-- page: string (nullable = true)\n",
      " |-- registration: long (nullable = true)\n",
      " |-- sessionId: long (nullable = true)\n",
      " |-- song: string (nullable = true)\n",
      " |-- status: long (nullable = true)\n",
      " |-- ts: long (nullable = true)\n",
      " |-- userAgent: string (nullable = true)\n",
      " |-- userId: string (nullable = true)\n",
      "\n"
     ]
    }
   ],
   "source": [
    "#Get basic information in dataset\n",
    "df.printSchema()"
   ]
  },
  {
   "cell_type": "code",
   "execution_count": 11,
   "metadata": {},
   "outputs": [],
   "source": [
    "category = []\n",
    "interger = []\n",
    "\n",
    "for item in df.schema:\n",
    "    if str(item.dataType) == 'StringType':\n",
    "        category.append(item.name)\n",
    "    else:\n",
    "        interger.append(item.name)"
   ]
  },
  {
   "cell_type": "code",
   "execution_count": 12,
   "metadata": {},
   "outputs": [
    {
     "data": {
      "text/plain": [
       "['artist',\n",
       " 'auth',\n",
       " 'firstName',\n",
       " 'gender',\n",
       " 'lastName',\n",
       " 'level',\n",
       " 'location',\n",
       " 'method',\n",
       " 'page',\n",
       " 'song',\n",
       " 'userAgent',\n",
       " 'userId']"
      ]
     },
     "execution_count": 12,
     "metadata": {},
     "output_type": "execute_result"
    }
   ],
   "source": [
    "category"
   ]
  },
  {
   "cell_type": "code",
   "execution_count": 13,
   "metadata": {},
   "outputs": [
    {
     "data": {
      "text/plain": [
       "['itemInSession', 'length', 'registration', 'sessionId', 'status', 'ts']"
      ]
     },
     "execution_count": 13,
     "metadata": {},
     "output_type": "execute_result"
    }
   ],
   "source": [
    "interger"
   ]
  },
  {
   "cell_type": "code",
   "execution_count": 14,
   "metadata": {},
   "outputs": [
    {
     "name": "stdout",
     "output_type": "stream",
     "text": [
      "+-------+------------------+-----------------+--------------------+------------------+------------------+--------------------+\n",
      "|summary|     itemInSession|           length|        registration|         sessionId|            status|                  ts|\n",
      "+-------+------------------+-----------------+--------------------+------------------+------------------+--------------------+\n",
      "|  count|            278154|           228108|              278154|            278154|            278154|              278154|\n",
      "|   mean|114.89918174824018|249.1171819778458|1.535358834084427...|1042.5616241362698|209.10321620397335|1.540958915431871...|\n",
      "| stddev|  129.851729399489|99.23517921058361| 3.291321616327586E9| 726.5010362219813|30.151388851328214|1.5068287123306298E9|\n",
      "|    min|                 0|          0.78322|       1521380675000|                 1|               200|       1538352117000|\n",
      "|    max|              1321|       3024.66567|       1543247354000|              2474|               404|       1543799476000|\n",
      "+-------+------------------+-----------------+--------------------+------------------+------------------+--------------------+\n",
      "\n"
     ]
    }
   ],
   "source": [
    "# statistic of interger columns\n",
    "df.describe(interger).show()"
   ]
  },
  {
   "cell_type": "markdown",
   "metadata": {},
   "source": [
    "### UserID insight"
   ]
  },
  {
   "cell_type": "code",
   "execution_count": 15,
   "metadata": {},
   "outputs": [
    {
     "data": {
      "text/plain": [
       "225"
      ]
     },
     "execution_count": 15,
     "metadata": {},
     "output_type": "execute_result"
    }
   ],
   "source": [
    "# unique user in the dataset:\n",
    "df.select('userId').dropDuplicates().count()"
   ]
  },
  {
   "cell_type": "code",
   "execution_count": 16,
   "metadata": {},
   "outputs": [
    {
     "name": "stdout",
     "output_type": "stream",
     "text": [
      "+------+-----+\n",
      "|userId|count|\n",
      "+------+-----+\n",
      "|    39| 9632|\n",
      "|    92| 7230|\n",
      "|   140| 6880|\n",
      "|300011| 5732|\n",
      "|   124| 4825|\n",
      "|300021| 4659|\n",
      "|300017| 4428|\n",
      "|    85| 4370|\n",
      "|    42| 4257|\n",
      "|200023| 3769|\n",
      "|     6| 3761|\n",
      "|    29| 3603|\n",
      "|    54| 3437|\n",
      "|   100| 3214|\n",
      "|     9| 3191|\n",
      "|   126| 3102|\n",
      "|300015| 3051|\n",
      "|    91| 3014|\n",
      "|    98| 2891|\n",
      "|    74| 2887|\n",
      "+------+-----+\n",
      "only showing top 20 rows\n",
      "\n"
     ]
    }
   ],
   "source": [
    "# the list of most interactive users:\n",
    "df.select(['userId','page']).groupby('userId').count().dropna().orderBy('count',ascending = False).show()"
   ]
  },
  {
   "cell_type": "markdown",
   "metadata": {},
   "source": [
    "### Artist insight"
   ]
  },
  {
   "cell_type": "code",
   "execution_count": 17,
   "metadata": {},
   "outputs": [
    {
     "data": {
      "text/plain": [
       "17656"
      ]
     },
     "execution_count": 17,
     "metadata": {},
     "output_type": "execute_result"
    }
   ],
   "source": [
    "# Unique artist in the dataset\n",
    "df.select('artist').dropDuplicates().count()"
   ]
  },
  {
   "cell_type": "code",
   "execution_count": 18,
   "metadata": {},
   "outputs": [
    {
     "name": "stdout",
     "output_type": "stream",
     "text": [
      "+--------------------+-----+\n",
      "|              artist|count|\n",
      "+--------------------+-----+\n",
      "|       Kings Of Leon| 1841|\n",
      "|            Coldplay| 1813|\n",
      "|Florence + The Ma...| 1236|\n",
      "|       Dwight Yoakam| 1135|\n",
      "|            BjÃÂ¶rk| 1133|\n",
      "|      The Black Keys| 1125|\n",
      "|                Muse| 1090|\n",
      "|       Justin Bieber| 1044|\n",
      "|        Jack Johnson| 1007|\n",
      "|              Eminem|  953|\n",
      "|           Radiohead|  884|\n",
      "|     Alliance Ethnik|  876|\n",
      "|               Train|  854|\n",
      "|        Taylor Swift|  840|\n",
      "|         OneRepublic|  828|\n",
      "|         The Killers|  822|\n",
      "|         Linkin Park|  787|\n",
      "|         Evanescence|  781|\n",
      "|            Harmonia|  729|\n",
      "|       Guns N' Roses|  713|\n",
      "+--------------------+-----+\n",
      "only showing top 20 rows\n",
      "\n"
     ]
    }
   ],
   "source": [
    "# Artist with most interactions\n",
    "df.select('artist').groupby('artist').count().dropna().orderBy('count',ascending = False).show()"
   ]
  },
  {
   "cell_type": "markdown",
   "metadata": {},
   "source": [
    "## Songs insight"
   ]
  },
  {
   "cell_type": "code",
   "execution_count": 19,
   "metadata": {},
   "outputs": [
    {
     "data": {
      "text/plain": [
       "58481"
      ]
     },
     "execution_count": 19,
     "metadata": {},
     "output_type": "execute_result"
    }
   ],
   "source": [
    "#Unique songs in the dataset\n",
    "df.select('song').dropDuplicates().count()"
   ]
  },
  {
   "cell_type": "code",
   "execution_count": 20,
   "metadata": {},
   "outputs": [
    {
     "name": "stdout",
     "output_type": "stream",
     "text": [
      "+--------------------+-----+\n",
      "|                song|count|\n",
      "+--------------------+-----+\n",
      "|      You're The One| 1153|\n",
      "|                Undo| 1026|\n",
      "|             Revelry|  854|\n",
      "|       Sehr kosmisch|  728|\n",
      "|Horn Concerto No....|  641|\n",
      "|Dog Days Are Over...|  574|\n",
      "|             Secrets|  466|\n",
      "|        Use Somebody|  459|\n",
      "|              Canada|  435|\n",
      "|             Invalid|  424|\n",
      "|    Ain't Misbehavin|  409|\n",
      "|       ReprÃÂ©sente|  393|\n",
      "|SinceritÃÂ© Et J...|  384|\n",
      "|Catch You Baby (S...|  373|\n",
      "|              Yellow|  343|\n",
      "|    Somebody To Love|  343|\n",
      "|    Hey_ Soul Sister|  334|\n",
      "|            The Gift|  327|\n",
      "|           Fireflies|  312|\n",
      "|          Love Story|  309|\n",
      "+--------------------+-----+\n",
      "only showing top 20 rows\n",
      "\n"
     ]
    }
   ],
   "source": [
    "#Song with most interactions\n",
    "df.select(['artist','song']).groupby('song').count().dropna().orderBy('count',ascending = False).show()"
   ]
  },
  {
   "cell_type": "markdown",
   "metadata": {},
   "source": [
    "### Page insight"
   ]
  },
  {
   "cell_type": "code",
   "execution_count": 21,
   "metadata": {},
   "outputs": [
    {
     "data": {
      "text/plain": [
       "19"
      ]
     },
     "execution_count": 21,
     "metadata": {},
     "output_type": "execute_result"
    }
   ],
   "source": [
    "# Unique page in the dataset\n",
    "df.select('page').dropDuplicates().count()"
   ]
  },
  {
   "cell_type": "code",
   "execution_count": 22,
   "metadata": {},
   "outputs": [
    {
     "name": "stdout",
     "output_type": "stream",
     "text": [
      "+--------------------+------+\n",
      "|                page| count|\n",
      "+--------------------+------+\n",
      "|            NextSong|228108|\n",
      "|           Thumbs Up| 12551|\n",
      "|                Home| 10082|\n",
      "|     Add to Playlist|  6526|\n",
      "|          Add Friend|  4277|\n",
      "|         Roll Advert|  3933|\n",
      "|              Logout|  3226|\n",
      "|         Thumbs Down|  2546|\n",
      "|           Downgrade|  2055|\n",
      "|            Settings|  1514|\n",
      "|                Help|  1454|\n",
      "|             Upgrade|   499|\n",
      "|               About|   495|\n",
      "|       Save Settings|   310|\n",
      "|               Error|   252|\n",
      "|      Submit Upgrade|   159|\n",
      "|    Submit Downgrade|    63|\n",
      "|              Cancel|    52|\n",
      "|Cancellation Conf...|    52|\n",
      "+--------------------+------+\n",
      "\n"
     ]
    }
   ],
   "source": [
    "# total visit for each page\n",
    "df.select('page').groupby('page').count().dropna().orderBy('count',ascending = False).show(19)"
   ]
  },
  {
   "cell_type": "markdown",
   "metadata": {},
   "source": [
    "### Auth insight"
   ]
  },
  {
   "cell_type": "code",
   "execution_count": 23,
   "metadata": {},
   "outputs": [
    {
     "name": "stdout",
     "output_type": "stream",
     "text": [
      "+---------+\n",
      "|     auth|\n",
      "+---------+\n",
      "|Cancelled|\n",
      "|Logged In|\n",
      "+---------+\n",
      "\n"
     ]
    }
   ],
   "source": [
    "# Total auth categories\n",
    "df.select('auth').dropDuplicates().show()"
   ]
  },
  {
   "cell_type": "code",
   "execution_count": 24,
   "metadata": {},
   "outputs": [
    {
     "name": "stdout",
     "output_type": "stream",
     "text": [
      "+----------------------+\n",
      "|count(DISTINCT userID)|\n",
      "+----------------------+\n",
      "|                    52|\n",
      "+----------------------+\n",
      "\n"
     ]
    }
   ],
   "source": [
    "# Create the sql table\n",
    "df.createOrReplaceTempView(\"df_table\")\n",
    "# finding distinct user number who choose Cancelled\n",
    "spark.sql(\"SELECT COUNT(DISTINCT userID) \\\n",
    "            FROM df_table\\\n",
    "            WHERE auth = 'Cancelled'\").show()"
   ]
  },
  {
   "cell_type": "code",
   "execution_count": 25,
   "metadata": {},
   "outputs": [
    {
     "name": "stdout",
     "output_type": "stream",
     "text": [
      "+----------------------+\n",
      "|count(DISTINCT userID)|\n",
      "+----------------------+\n",
      "|                   225|\n",
      "+----------------------+\n",
      "\n"
     ]
    }
   ],
   "source": [
    "# distinct user number who choose Logged In\n",
    "spark.sql(\"SELECT COUNT(DISTINCT userID) \\\n",
    "            FROM df_table\\\n",
    "            WHERE auth = 'Logged In'\").show()"
   ]
  },
  {
   "cell_type": "markdown",
   "metadata": {},
   "source": [
    "### User insight"
   ]
  },
  {
   "cell_type": "code",
   "execution_count": 26,
   "metadata": {},
   "outputs": [
    {
     "name": "stdout",
     "output_type": "stream",
     "text": [
      "+------+\n",
      "|userID|\n",
      "+------+\n",
      "|100010|\n",
      "|200002|\n",
      "|   125|\n",
      "|    51|\n",
      "|   124|\n",
      "|     7|\n",
      "|    54|\n",
      "|    15|\n",
      "|   155|\n",
      "|   132|\n",
      "|   154|\n",
      "|100014|\n",
      "|   101|\n",
      "|    11|\n",
      "|   138|\n",
      "|300017|\n",
      "|    29|\n",
      "|    69|\n",
      "|100021|\n",
      "|    42|\n",
      "+------+\n",
      "only showing top 20 rows\n",
      "\n"
     ]
    }
   ],
   "source": [
    "# distinct userID in the dataset\n",
    "df.select('userID').dropDuplicates().show()"
   ]
  },
  {
   "cell_type": "code",
   "execution_count": 27,
   "metadata": {},
   "outputs": [
    {
     "data": {
      "text/plain": [
       "225"
      ]
     },
     "execution_count": 27,
     "metadata": {},
     "output_type": "execute_result"
    }
   ],
   "source": [
    "# distinct user #\n",
    "df.select('userID').dropDuplicates().count()"
   ]
  },
  {
   "cell_type": "markdown",
   "metadata": {},
   "source": [
    "### Gender insight"
   ]
  },
  {
   "cell_type": "code",
   "execution_count": 28,
   "metadata": {},
   "outputs": [
    {
     "name": "stdout",
     "output_type": "stream",
     "text": [
      "+------+\n",
      "|gender|\n",
      "+------+\n",
      "|     F|\n",
      "|     M|\n",
      "+------+\n",
      "\n"
     ]
    }
   ],
   "source": [
    "df.select('gender').dropDuplicates().show()"
   ]
  },
  {
   "cell_type": "code",
   "execution_count": 29,
   "metadata": {},
   "outputs": [
    {
     "name": "stdout",
     "output_type": "stream",
     "text": [
      "+----------------------+\n",
      "|count(DISTINCT userID)|\n",
      "+----------------------+\n",
      "|                   104|\n",
      "+----------------------+\n",
      "\n"
     ]
    }
   ],
   "source": [
    "# user number in female\n",
    "spark.sql(\"SELECT COUNT(DISTINCT userID) \\\n",
    "            FROM df_table\\\n",
    "            WHERE gender = 'F'\").show()"
   ]
  },
  {
   "cell_type": "code",
   "execution_count": 30,
   "metadata": {},
   "outputs": [
    {
     "name": "stdout",
     "output_type": "stream",
     "text": [
      "+----------------------+\n",
      "|count(DISTINCT userID)|\n",
      "+----------------------+\n",
      "|                   121|\n",
      "+----------------------+\n",
      "\n"
     ]
    }
   ],
   "source": [
    "# user number in female\n",
    "spark.sql(\"SELECT COUNT(DISTINCT userID) \\\n",
    "            FROM df_table\\\n",
    "            WHERE gender = 'M'\").show()"
   ]
  },
  {
   "cell_type": "markdown",
   "metadata": {},
   "source": [
    "### level insight"
   ]
  },
  {
   "cell_type": "code",
   "execution_count": 31,
   "metadata": {},
   "outputs": [
    {
     "name": "stdout",
     "output_type": "stream",
     "text": [
      "+-----+\n",
      "|level|\n",
      "+-----+\n",
      "| free|\n",
      "| paid|\n",
      "+-----+\n",
      "\n"
     ]
    }
   ],
   "source": [
    "#'level'\n",
    "df.select('level').dropDuplicates().show()"
   ]
  },
  {
   "cell_type": "code",
   "execution_count": 32,
   "metadata": {},
   "outputs": [
    {
     "name": "stdout",
     "output_type": "stream",
     "text": [
      "+----------------------+\n",
      "|count(DISTINCT userID)|\n",
      "+----------------------+\n",
      "|                   195|\n",
      "+----------------------+\n",
      "\n"
     ]
    }
   ],
   "source": [
    "# user number in different level\n",
    "spark.sql(\"SELECT COUNT(DISTINCT userID) \\\n",
    "            FROM df_table\\\n",
    "            WHERE level = 'free'\").show()"
   ]
  },
  {
   "cell_type": "code",
   "execution_count": 33,
   "metadata": {},
   "outputs": [
    {
     "name": "stdout",
     "output_type": "stream",
     "text": [
      "+----------------------+\n",
      "|count(DISTINCT userID)|\n",
      "+----------------------+\n",
      "|                   165|\n",
      "+----------------------+\n",
      "\n"
     ]
    }
   ],
   "source": [
    "spark.sql(\"SELECT COUNT(DISTINCT userID) \\\n",
    "            FROM df_table\\\n",
    "            WHERE level = 'paid'\").show()"
   ]
  },
  {
   "cell_type": "markdown",
   "metadata": {},
   "source": [
    "### Method insight"
   ]
  },
  {
   "cell_type": "code",
   "execution_count": 34,
   "metadata": {},
   "outputs": [
    {
     "name": "stdout",
     "output_type": "stream",
     "text": [
      "+------+\n",
      "|method|\n",
      "+------+\n",
      "|   PUT|\n",
      "|   GET|\n",
      "+------+\n",
      "\n"
     ]
    }
   ],
   "source": [
    "#'method'\n",
    "df.select('method').dropDuplicates().show()"
   ]
  },
  {
   "cell_type": "code",
   "execution_count": 35,
   "metadata": {},
   "outputs": [
    {
     "name": "stdout",
     "output_type": "stream",
     "text": [
      "+----------------------+\n",
      "|count(DISTINCT userID)|\n",
      "+----------------------+\n",
      "|                   225|\n",
      "+----------------------+\n",
      "\n"
     ]
    }
   ],
   "source": [
    "# user number in different method\n",
    "spark.sql(\"SELECT COUNT(DISTINCT userID) \\\n",
    "            FROM df_table\\\n",
    "            WHERE method = 'PUT'\").show()"
   ]
  },
  {
   "cell_type": "code",
   "execution_count": 36,
   "metadata": {},
   "outputs": [
    {
     "name": "stdout",
     "output_type": "stream",
     "text": [
      "+----------------------+\n",
      "|count(DISTINCT userID)|\n",
      "+----------------------+\n",
      "|                   224|\n",
      "+----------------------+\n",
      "\n"
     ]
    }
   ],
   "source": [
    "# user number in different method\n",
    "spark.sql(\"SELECT COUNT(DISTINCT userID) \\\n",
    "            FROM df_table\\\n",
    "            WHERE method = 'GET'\").show()"
   ]
  },
  {
   "cell_type": "markdown",
   "metadata": {},
   "source": [
    "### User Agent insight"
   ]
  },
  {
   "cell_type": "code",
   "execution_count": 37,
   "metadata": {},
   "outputs": [
    {
     "name": "stdout",
     "output_type": "stream",
     "text": [
      "+--------------------+\n",
      "|           userAgent|\n",
      "+--------------------+\n",
      "|\"Mozilla/5.0 (Mac...|\n",
      "|\"Mozilla/5.0 (Win...|\n",
      "|Mozilla/5.0 (X11;...|\n",
      "|\"Mozilla/5.0 (Mac...|\n",
      "|\"Mozilla/5.0 (Mac...|\n",
      "|Mozilla/5.0 (Maci...|\n",
      "|Mozilla/5.0 (Wind...|\n",
      "|Mozilla/5.0 (Wind...|\n",
      "|Mozilla/5.0 (comp...|\n",
      "|\"Mozilla/5.0 (Win...|\n",
      "|Mozilla/5.0 (Maci...|\n",
      "|\"Mozilla/5.0 (Win...|\n",
      "|\"Mozilla/5.0 (iPh...|\n",
      "|\"Mozilla/5.0 (Win...|\n",
      "|Mozilla/5.0 (Wind...|\n",
      "|Mozilla/5.0 (comp...|\n",
      "|Mozilla/5.0 (comp...|\n",
      "|\"Mozilla/5.0 (Mac...|\n",
      "|\"Mozilla/5.0 (Mac...|\n",
      "|\"Mozilla/5.0 (Win...|\n",
      "+--------------------+\n",
      "only showing top 20 rows\n",
      "\n"
     ]
    }
   ],
   "source": [
    "df.select('userAgent').dropDuplicates().show()"
   ]
  },
  {
   "cell_type": "code",
   "execution_count": 38,
   "metadata": {},
   "outputs": [
    {
     "data": {
      "text/plain": [
       "56"
      ]
     },
     "execution_count": 38,
     "metadata": {},
     "output_type": "execute_result"
    }
   ],
   "source": [
    "# total number of different agents\n",
    "df.select('userAgent').dropDuplicates().count()"
   ]
  },
  {
   "cell_type": "markdown",
   "metadata": {},
   "source": [
    "### Location insight"
   ]
  },
  {
   "cell_type": "code",
   "execution_count": 39,
   "metadata": {},
   "outputs": [
    {
     "name": "stdout",
     "output_type": "stream",
     "text": [
      "+--------------------+\n",
      "|            location|\n",
      "+--------------------+\n",
      "|     Gainesville, FL|\n",
      "|Atlantic City-Ham...|\n",
      "|Deltona-Daytona B...|\n",
      "|San Diego-Carlsba...|\n",
      "|Cleveland-Elyria, OH|\n",
      "|Kingsport-Bristol...|\n",
      "|New Haven-Milford...|\n",
      "|Birmingham-Hoover...|\n",
      "|  Corpus Christi, TX|\n",
      "|         Dubuque, IA|\n",
      "|Las Vegas-Henders...|\n",
      "|Indianapolis-Carm...|\n",
      "|Seattle-Tacoma-Be...|\n",
      "|          Albany, OR|\n",
      "|   Winston-Salem, NC|\n",
      "|     Bakersfield, CA|\n",
      "|Los Angeles-Long ...|\n",
      "|Minneapolis-St. P...|\n",
      "|San Francisco-Oak...|\n",
      "|Phoenix-Mesa-Scot...|\n",
      "+--------------------+\n",
      "only showing top 20 rows\n",
      "\n"
     ]
    }
   ],
   "source": [
    "df.select('location').dropDuplicates().show()"
   ]
  },
  {
   "cell_type": "code",
   "execution_count": 40,
   "metadata": {},
   "outputs": [
    {
     "data": {
      "text/plain": [
       "114"
      ]
     },
     "execution_count": 40,
     "metadata": {},
     "output_type": "execute_result"
    }
   ],
   "source": [
    "# Number of locations in dataset\n",
    "df.select('location').dropDuplicates().count()"
   ]
  },
  {
   "cell_type": "code",
   "execution_count": 41,
   "metadata": {},
   "outputs": [],
   "source": [
    "### Time insight"
   ]
  },
  {
   "cell_type": "markdown",
   "metadata": {},
   "source": [
    "### Define Churn\n",
    "As it mentioned above, the churn event would be 'Cancellation Confirmation' in the page column.\n",
    "And another option for churn would be downgrade event, which is 'Submit Downgrade' in the page column."
   ]
  },
  {
   "cell_type": "markdown",
   "metadata": {},
   "source": [
    "#### Cancellation Churn"
   ]
  },
  {
   "cell_type": "code",
   "execution_count": 42,
   "metadata": {},
   "outputs": [
    {
     "name": "stdout",
     "output_type": "stream",
     "text": [
      "+------+---------+---------+------+-------------+---------+------+-----+--------------------+------+--------------------+-------------+---------+----+------+-------------+--------------------+------+\n",
      "|artist|     auth|firstName|gender|itemInSession| lastName|length|level|            location|method|                page| registration|sessionId|song|status|           ts|           userAgent|userId|\n",
      "+------+---------+---------+------+-------------+---------+------+-----+--------------------+------+--------------------+-------------+---------+----+------+-------------+--------------------+------+\n",
      "|  null|Cancelled|   Adriel|     M|          104|  Mendoza|  null| paid|  Kansas City, MO-KS|   GET|Cancellation Conf...|1535623466000|      514|null|   200|1538943990000|\"Mozilla/5.0 (Mac...|    18|\n",
      "|  null|Cancelled|    Diego|     M|           56|    Mckee|  null| paid|Phoenix-Mesa-Scot...|   GET|Cancellation Conf...|1537167593000|      540|null|   200|1539033046000|\"Mozilla/5.0 (iPh...|    32|\n",
      "|  null|Cancelled|    Mason|     M|           10|     Hart|  null| free|  Corpus Christi, TX|   GET|Cancellation Conf...|1533157139000|      174|null|   200|1539318918000|\"Mozilla/5.0 (Mac...|   125|\n",
      "|  null|Cancelled|Alexander|     M|          332|   Garcia|  null| paid|Indianapolis-Carm...|   GET|Cancellation Conf...|1536817381000|      508|null|   200|1539375441000|Mozilla/5.0 (Wind...|   105|\n",
      "|  null|Cancelled|    Kayla|     F|          273|  Johnson|  null| paid|Philadelphia-Camd...|   GET|Cancellation Conf...|1538333829000|      797|null|   200|1539465584000|Mozilla/5.0 (Wind...|    17|\n",
      "|  null|Cancelled|    Molly|     F|           29| Harrison|  null| free|Virginia Beach-No...|   GET|Cancellation Conf...|1534255113000|      843|null|   200|1539588854000|\"Mozilla/5.0 (Mac...|   143|\n",
      "|  null|Cancelled|     Alex|     M|          145|    Hogan|  null| paid|Denver-Aurora-Lak...|   GET|Cancellation Conf...|1535066380000|      842|null|   200|1539729037000|Mozilla/5.0 (Wind...|   101|\n",
      "|  null|Cancelled|    Davis|     M|           34|     Wang|  null| paid|           Flint, MI|   GET|Cancellation Conf...|1538289776000|      802|null|   200|1539736161000|\"Mozilla/5.0 (Win...|   129|\n",
      "|  null|Cancelled|  Nikolas|     M|          287|    Olsen|  null| paid|Oxnard-Thousand O...|   GET|Cancellation Conf...|1528403713000|      881|null|   200|1539759749000|Mozilla/5.0 (X11;...|   121|\n",
      "|  null|Cancelled|    Ethan|     M|          176|  Johnson|  null| paid|Lexington-Fayette...|   GET|Cancellation Conf...|1538080987000|      934|null|   200|1539761972000|\"Mozilla/5.0 (Win...|    51|\n",
      "|  null|Cancelled|Christian|     M|          100| Robinson|  null| paid|       Quincy, IL-MO|   GET|Cancellation Conf...|1534942082000|     1092|null|   200|1540050556000|\"Mozilla/5.0 (Win...|    87|\n",
      "|  null|Cancelled|    Molly|     F|           43|Patterson|  null| paid|   Memphis, TN-MS-AR|   GET|Cancellation Conf...|1535498705000|     1029|null|   200|1540062068000|Mozilla/5.0 (X11;...|   122|\n",
      "|  null|Cancelled|   Sophia|     F|           72|    Perry|  null| paid|Los Angeles-Long ...|   GET|Cancellation Conf...|1533885783000|     1072|null|   200|1540193374000|Mozilla/5.0 (Wind...|    12|\n",
      "|  null|Cancelled|    Erick|     M|           48|   Brooks|  null| paid|           Selma, AL|   GET|Cancellation Conf...|1537956751000|     1112|null|   200|1540223006000|\"Mozilla/5.0 (Win...|    58|\n",
      "|  null|Cancelled|   Rachel|     F|           11|   Bailey|  null| paid|Albany-Schenectad...|   GET|Cancellation Conf...|1536102943000|     1059|null|   200|1540402387000|Mozilla/5.0 (Wind...|    73|\n",
      "|  null|Cancelled|  Jeffery|     M|           46|  Wheeler|  null| paid|         Bozeman, MT|   GET|Cancellation Conf...|1533886191000|     1324|null|   200|1540875543000|\"Mozilla/5.0 (Win...|     3|\n",
      "|  null|Cancelled|   Sophia|     F|           18|      Key|  null| paid|Los Angeles-Long ...|   GET|Cancellation Conf...|1537679535000|     1383|null|   200|1541166424000|\"Mozilla/5.0 (Mac...|   106|\n",
      "|  null|Cancelled|    Piper|     F|            8|  Nielsen|  null| paid|New York-Newark-J...|   GET|Cancellation Conf...|1537699856000|     1583|null|   200|1541340091000|\"Mozilla/5.0 (Mac...|   103|\n",
      "|  null|Cancelled|   Teagan|     F|          306|  Roberts|  null| paid|New Philadelphia-...|   GET|Cancellation Conf...|1537634865000|     1519|null|   200|1541463632000|Mozilla/5.0 (Wind...|    28|\n",
      "|  null|Cancelled|    Alexi|     F|           42|   Warren|  null| paid|Spokane-Spokane V...|   GET|Cancellation Conf...|1532482662000|     1819|null|   200|1542051608000|Mozilla/5.0 (Wind...|    54|\n",
      "+------+---------+---------+------+-------------+---------+------+-----+--------------------+------+--------------------+-------------+---------+----+------+-------------+--------------------+------+\n",
      "only showing top 20 rows\n",
      "\n"
     ]
    }
   ],
   "source": [
    "# Finding the page with cancellation confirmation\n",
    "df.filter(\"page = 'Cancellation Confirmation'\").show()"
   ]
  },
  {
   "cell_type": "code",
   "execution_count": 43,
   "metadata": {},
   "outputs": [],
   "source": [
    "# Adding a new column where define the churn event as 1 and 0\n",
    "churn = udf(lambda x:1 if x == 'Cancellation Confirmation' else 0, IntegerType())\n",
    "df = df.withColumn('Churn',churn(df.page))"
   ]
  },
  {
   "cell_type": "code",
   "execution_count": 44,
   "metadata": {},
   "outputs": [
    {
     "name": "stdout",
     "output_type": "stream",
     "text": [
      "+-------+--------------------+\n",
      "|summary|               Churn|\n",
      "+-------+--------------------+\n",
      "|  count|              278154|\n",
      "|   mean|1.869467992550889E-4|\n",
      "| stddev|0.013671595449116164|\n",
      "|    min|                   0|\n",
      "|    max|                   1|\n",
      "+-------+--------------------+\n",
      "\n"
     ]
    }
   ],
   "source": [
    "# showing basic stas in the churn column\n",
    "df.describe('Churn').show()"
   ]
  },
  {
   "cell_type": "code",
   "execution_count": 45,
   "metadata": {},
   "outputs": [],
   "source": [
    "# Create the table with Churn column\n",
    "df.createOrReplaceTempView(\"df_table\")"
   ]
  },
  {
   "cell_type": "code",
   "execution_count": 46,
   "metadata": {},
   "outputs": [
    {
     "name": "stdout",
     "output_type": "stream",
     "text": [
      "+----------------------+\n",
      "|count(DISTINCT userID)|\n",
      "+----------------------+\n",
      "|                    52|\n",
      "+----------------------+\n",
      "\n"
     ]
    }
   ],
   "source": [
    "# finding the churn numbers in dataset\n",
    "\n",
    "spark.sql(\"SELECT COUNT(DISTINCT userID)\\\n",
    "            FROM df_table\\\n",
    "            WHERE Churn = 1\").show()"
   ]
  },
  {
   "cell_type": "code",
   "execution_count": 47,
   "metadata": {},
   "outputs": [
    {
     "name": "stdout",
     "output_type": "stream",
     "text": [
      "The churn rate in this dataset is 23.111111%\n"
     ]
    }
   ],
   "source": [
    "#Calculate the churn rate\n",
    "churn_rate = 52/225\n",
    "print ('The churn rate in this dataset is {:%}'.format(churn_rate))"
   ]
  },
  {
   "cell_type": "markdown",
   "metadata": {},
   "source": [
    "### Downgrade churn "
   ]
  },
  {
   "cell_type": "code",
   "execution_count": 48,
   "metadata": {},
   "outputs": [],
   "source": [
    "# Downgrade churn\n",
    "Downgrade = udf(lambda x:1 if x == 'Submit Downgrade' else 0, IntegerType())\n",
    "df = df.withColumn('Downgrade',Downgrade(df.page))"
   ]
  },
  {
   "cell_type": "code",
   "execution_count": 49,
   "metadata": {},
   "outputs": [
    {
     "name": "stdout",
     "output_type": "stream",
     "text": [
      "+-------+--------------------+\n",
      "|summary|           Downgrade|\n",
      "+-------+--------------------+\n",
      "|  count|              278154|\n",
      "|   mean|2.264932375590500...|\n",
      "| stddev|0.015048014901098822|\n",
      "|    min|                   0|\n",
      "|    max|                   1|\n",
      "+-------+--------------------+\n",
      "\n"
     ]
    }
   ],
   "source": [
    "# stas of downgrade column\n",
    "df.describe('Downgrade').show()"
   ]
  },
  {
   "cell_type": "code",
   "execution_count": 50,
   "metadata": {},
   "outputs": [],
   "source": [
    "# Create the table with Downgrade column\n",
    "df.createOrReplaceTempView(\"df_table\")"
   ]
  },
  {
   "cell_type": "code",
   "execution_count": 51,
   "metadata": {},
   "outputs": [
    {
     "name": "stdout",
     "output_type": "stream",
     "text": [
      "+----------------------+\n",
      "|count(DISTINCT userID)|\n",
      "+----------------------+\n",
      "|                    49|\n",
      "+----------------------+\n",
      "\n"
     ]
    }
   ],
   "source": [
    "spark.sql(\"SELECT COUNT(DISTINCT userID) \\\n",
    "            FROM df_table\\\n",
    "            WHERE Downgrade = 1\").show()"
   ]
  },
  {
   "cell_type": "code",
   "execution_count": 52,
   "metadata": {},
   "outputs": [
    {
     "name": "stdout",
     "output_type": "stream",
     "text": [
      "The downgrade rate in this dataset is 21.777778%\n"
     ]
    }
   ],
   "source": [
    "#Calculate the downgrade rate\n",
    "downgrade_rate = 49/225\n",
    "print ('The downgrade rate in this dataset is {:%}'.format(downgrade_rate))"
   ]
  },
  {
   "cell_type": "markdown",
   "metadata": {},
   "source": [
    "### The category effects regarding different features\n",
    "Based on the previous category informations, the churn rate will be possible effected by the value in feature.\n",
    "I want to take a look into how would these category feature values effect the churn action."
   ]
  },
  {
   "cell_type": "markdown",
   "metadata": {},
   "source": [
    "### Comparison of churn and downgrade in different categories"
   ]
  },
  {
   "cell_type": "code",
   "execution_count": 53,
   "metadata": {},
   "outputs": [],
   "source": [
    "# import graph library\n",
    "import matplotlib.pyplot as plt\n",
    "import seaborn as sns\n",
    "import pandas as pd"
   ]
  },
  {
   "cell_type": "code",
   "execution_count": 54,
   "metadata": {},
   "outputs": [
    {
     "data": {
      "text/html": [
       "<div>\n",
       "<style scoped>\n",
       "    .dataframe tbody tr th:only-of-type {\n",
       "        vertical-align: middle;\n",
       "    }\n",
       "\n",
       "    .dataframe tbody tr th {\n",
       "        vertical-align: top;\n",
       "    }\n",
       "\n",
       "    .dataframe thead th {\n",
       "        text-align: right;\n",
       "    }\n",
       "</style>\n",
       "<table border=\"1\" class=\"dataframe\">\n",
       "  <thead>\n",
       "    <tr style=\"text-align: right;\">\n",
       "      <th></th>\n",
       "      <th>userID</th>\n",
       "      <th>gender</th>\n",
       "      <th>Downgrade</th>\n",
       "      <th>Churn</th>\n",
       "    </tr>\n",
       "  </thead>\n",
       "  <tbody>\n",
       "    <tr>\n",
       "      <th>0</th>\n",
       "      <td>300015</td>\n",
       "      <td>M</td>\n",
       "      <td>0</td>\n",
       "      <td>0</td>\n",
       "    </tr>\n",
       "    <tr>\n",
       "      <th>1</th>\n",
       "      <td>106</td>\n",
       "      <td>F</td>\n",
       "      <td>0</td>\n",
       "      <td>0</td>\n",
       "    </tr>\n",
       "    <tr>\n",
       "      <th>2</th>\n",
       "      <td>51</td>\n",
       "      <td>M</td>\n",
       "      <td>0</td>\n",
       "      <td>0</td>\n",
       "    </tr>\n",
       "    <tr>\n",
       "      <th>3</th>\n",
       "      <td>200021</td>\n",
       "      <td>F</td>\n",
       "      <td>0</td>\n",
       "      <td>0</td>\n",
       "    </tr>\n",
       "    <tr>\n",
       "      <th>4</th>\n",
       "      <td>12</td>\n",
       "      <td>F</td>\n",
       "      <td>0</td>\n",
       "      <td>0</td>\n",
       "    </tr>\n",
       "  </tbody>\n",
       "</table>\n",
       "</div>"
      ],
      "text/plain": [
       "   userID gender  Downgrade  Churn\n",
       "0  300015      M          0      0\n",
       "1     106      F          0      0\n",
       "2      51      M          0      0\n",
       "3  200021      F          0      0\n",
       "4      12      F          0      0"
      ]
     },
     "execution_count": 54,
     "metadata": {},
     "output_type": "execute_result"
    }
   ],
   "source": [
    "# Churn difference in gender\n",
    "churn_gender_pd = df.select(['userID','gender','Downgrade','Churn']).dropDuplicates().toPandas()\n",
    "churn_gender_pd.head()"
   ]
  },
  {
   "cell_type": "code",
   "execution_count": 55,
   "metadata": {},
   "outputs": [
    {
     "data": {
      "text/plain": [
       "Text(0.5,1,'Count of Churn and non-churned by gender')"
      ]
     },
     "execution_count": 55,
     "metadata": {},
     "output_type": "execute_result"
    },
    {
     "data": {
      "image/png": "[encoded data removed]",
      "text/plain": [
       "<matplotlib.figure.Figure at 0x7fcc6fb90358>"
      ]
     },
     "metadata": {
      "needs_background": "light"
     },
     "output_type": "display_data"
    }
   ],
   "source": [
    "sns.countplot(x=\"gender\", hue=\"Churn\", data=churn_gender_pd)\n",
    "plt.xlabel(\"Gender\")\n",
    "plt.ylabel(\"Number of Users\")\n",
    "plt.title(\"Count of Churn and non-churned by gender\")"
   ]
  },
  {
   "cell_type": "code",
   "execution_count": 56,
   "metadata": {},
   "outputs": [
    {
     "data": {
      "text/plain": [
       "Text(0.5,1,'Count of Downgrade and non-Downgrade by gender')"
      ]
     },
     "execution_count": 56,
     "metadata": {},
     "output_type": "execute_result"
    },
    {
     "data": {
      "image/png": "[encoded data removed]",
      "text/plain": [
       "<matplotlib.figure.Figure at 0x7fcc6fb4c7b8>"
      ]
     },
     "metadata": {
      "needs_background": "light"
     },
     "output_type": "display_data"
    }
   ],
   "source": [
    "sns.countplot(x=\"gender\", hue=\"Downgrade\", data=churn_gender_pd)\n",
    "plt.xlabel(\"Gender\")\n",
    "plt.ylabel(\"Number of Users\")\n",
    "plt.title(\"Count of Downgrade and non-Downgrade by gender\")"
   ]
  },
  {
   "cell_type": "code",
   "execution_count": 57,
   "metadata": {},
   "outputs": [
    {
     "data": {
      "text/html": [
       "<div>\n",
       "<style scoped>\n",
       "    .dataframe tbody tr th:only-of-type {\n",
       "        vertical-align: middle;\n",
       "    }\n",
       "\n",
       "    .dataframe tbody tr th {\n",
       "        vertical-align: top;\n",
       "    }\n",
       "\n",
       "    .dataframe thead th {\n",
       "        text-align: right;\n",
       "    }\n",
       "</style>\n",
       "<table border=\"1\" class=\"dataframe\">\n",
       "  <thead>\n",
       "    <tr style=\"text-align: right;\">\n",
       "      <th></th>\n",
       "      <th>userID</th>\n",
       "      <th>method</th>\n",
       "      <th>Churn</th>\n",
       "      <th>Downgrade</th>\n",
       "    </tr>\n",
       "  </thead>\n",
       "  <tbody>\n",
       "    <tr>\n",
       "      <th>0</th>\n",
       "      <td>19</td>\n",
       "      <td>PUT</td>\n",
       "      <td>0</td>\n",
       "      <td>0</td>\n",
       "    </tr>\n",
       "    <tr>\n",
       "      <th>1</th>\n",
       "      <td>100009</td>\n",
       "      <td>PUT</td>\n",
       "      <td>0</td>\n",
       "      <td>0</td>\n",
       "    </tr>\n",
       "    <tr>\n",
       "      <th>2</th>\n",
       "      <td>300017</td>\n",
       "      <td>GET</td>\n",
       "      <td>0</td>\n",
       "      <td>0</td>\n",
       "    </tr>\n",
       "    <tr>\n",
       "      <th>3</th>\n",
       "      <td>120</td>\n",
       "      <td>GET</td>\n",
       "      <td>0</td>\n",
       "      <td>0</td>\n",
       "    </tr>\n",
       "    <tr>\n",
       "      <th>4</th>\n",
       "      <td>100004</td>\n",
       "      <td>PUT</td>\n",
       "      <td>0</td>\n",
       "      <td>0</td>\n",
       "    </tr>\n",
       "  </tbody>\n",
       "</table>\n",
       "</div>"
      ],
      "text/plain": [
       "   userID method  Churn  Downgrade\n",
       "0      19    PUT      0          0\n",
       "1  100009    PUT      0          0\n",
       "2  300017    GET      0          0\n",
       "3     120    GET      0          0\n",
       "4  100004    PUT      0          0"
      ]
     },
     "execution_count": 57,
     "metadata": {},
     "output_type": "execute_result"
    }
   ],
   "source": [
    "# Churn difference in method\n",
    "churn_method_pd = df.select(['userID','method','Churn','Downgrade']).dropDuplicates().toPandas()\n",
    "churn_method_pd.head()"
   ]
  },
  {
   "cell_type": "code",
   "execution_count": 58,
   "metadata": {},
   "outputs": [
    {
     "data": {
      "text/plain": [
       "Text(0.5,1,'Count of churned and non-churned by method')"
      ]
     },
     "execution_count": 58,
     "metadata": {},
     "output_type": "execute_result"
    },
    {
     "data": {
      "image/png": "[encoded data removed]",
      "text/plain": [
       "<matplotlib.figure.Figure at 0x7fcc6d9ea0b8>"
      ]
     },
     "metadata": {
      "needs_background": "light"
     },
     "output_type": "display_data"
    }
   ],
   "source": [
    "sns.countplot(x=\"method\", hue=\"Churn\", data=churn_method_pd)\n",
    "plt.xlabel(\"Method\")\n",
    "plt.ylabel(\"Number of Users\")\n",
    "plt.title(\"Count of churned and non-churned by method\")"
   ]
  },
  {
   "cell_type": "code",
   "execution_count": 59,
   "metadata": {},
   "outputs": [
    {
     "data": {
      "text/plain": [
       "Text(0.5,1,'Count of downgrade and non-downgrade by method')"
      ]
     },
     "execution_count": 59,
     "metadata": {},
     "output_type": "execute_result"
    },
    {
     "data": {
      "image/png": "[encoded data removed]",
      "text/plain": [
       "<matplotlib.figure.Figure at 0x7fcc6fb57cf8>"
      ]
     },
     "metadata": {
      "needs_background": "light"
     },
     "output_type": "display_data"
    }
   ],
   "source": [
    "sns.countplot(x=\"method\", hue=\"Downgrade\", data=churn_method_pd)\n",
    "plt.xlabel(\"Method\")\n",
    "plt.ylabel(\"Number of Users\")\n",
    "plt.title(\"Count of downgrade and non-downgrade by method\")"
   ]
  },
  {
   "cell_type": "code",
   "execution_count": 60,
   "metadata": {},
   "outputs": [
    {
     "data": {
      "text/html": [
       "<div>\n",
       "<style scoped>\n",
       "    .dataframe tbody tr th:only-of-type {\n",
       "        vertical-align: middle;\n",
       "    }\n",
       "\n",
       "    .dataframe tbody tr th {\n",
       "        vertical-align: top;\n",
       "    }\n",
       "\n",
       "    .dataframe thead th {\n",
       "        text-align: right;\n",
       "    }\n",
       "</style>\n",
       "<table border=\"1\" class=\"dataframe\">\n",
       "  <thead>\n",
       "    <tr style=\"text-align: right;\">\n",
       "      <th></th>\n",
       "      <th>userID</th>\n",
       "      <th>level</th>\n",
       "      <th>Churn</th>\n",
       "      <th>Downgrade</th>\n",
       "    </tr>\n",
       "  </thead>\n",
       "  <tbody>\n",
       "    <tr>\n",
       "      <th>0</th>\n",
       "      <td>45</td>\n",
       "      <td>paid</td>\n",
       "      <td>0</td>\n",
       "      <td>0</td>\n",
       "    </tr>\n",
       "    <tr>\n",
       "      <th>1</th>\n",
       "      <td>53</td>\n",
       "      <td>paid</td>\n",
       "      <td>1</td>\n",
       "      <td>0</td>\n",
       "    </tr>\n",
       "    <tr>\n",
       "      <th>2</th>\n",
       "      <td>100009</td>\n",
       "      <td>free</td>\n",
       "      <td>1</td>\n",
       "      <td>0</td>\n",
       "    </tr>\n",
       "    <tr>\n",
       "      <th>3</th>\n",
       "      <td>132</td>\n",
       "      <td>paid</td>\n",
       "      <td>0</td>\n",
       "      <td>0</td>\n",
       "    </tr>\n",
       "    <tr>\n",
       "      <th>4</th>\n",
       "      <td>103</td>\n",
       "      <td>free</td>\n",
       "      <td>0</td>\n",
       "      <td>0</td>\n",
       "    </tr>\n",
       "  </tbody>\n",
       "</table>\n",
       "</div>"
      ],
      "text/plain": [
       "   userID level  Churn  Downgrade\n",
       "0      45  paid      0          0\n",
       "1      53  paid      1          0\n",
       "2  100009  free      1          0\n",
       "3     132  paid      0          0\n",
       "4     103  free      0          0"
      ]
     },
     "execution_count": 60,
     "metadata": {},
     "output_type": "execute_result"
    }
   ],
   "source": [
    "# Churn difference in level\n",
    "churn_level_pd = df.select(['userID','level','Churn','Downgrade']).dropDuplicates().toPandas()\n",
    "churn_level_pd.head()"
   ]
  },
  {
   "cell_type": "code",
   "execution_count": 61,
   "metadata": {},
   "outputs": [
    {
     "data": {
      "text/plain": [
       "Text(0.5,1,'Count of churned and non-churned by level')"
      ]
     },
     "execution_count": 61,
     "metadata": {},
     "output_type": "execute_result"
    },
    {
     "data": {
      "image/png": "[encoded data removed]",
      "text/plain": [
       "<matplotlib.figure.Figure at 0x7fcc6d933b38>"
      ]
     },
     "metadata": {
      "needs_background": "light"
     },
     "output_type": "display_data"
    }
   ],
   "source": [
    "sns.countplot(x=\"level\", hue=\"Churn\", data=churn_level_pd)\n",
    "plt.xlabel(\"level\")\n",
    "plt.ylabel(\"Number of Users\")\n",
    "plt.title(\"Count of churned and non-churned by level\")"
   ]
  },
  {
   "cell_type": "code",
   "execution_count": 62,
   "metadata": {},
   "outputs": [
    {
     "data": {
      "text/plain": [
       "Text(0.5,1,'Count of downgrade and non-downgrade by level')"
      ]
     },
     "execution_count": 62,
     "metadata": {},
     "output_type": "execute_result"
    },
    {
     "data": {
      "image/png": "[encoded data removed]",
      "text/plain": [
       "<matplotlib.figure.Figure at 0x7fcc6da3e160>"
      ]
     },
     "metadata": {
      "needs_background": "light"
     },
     "output_type": "display_data"
    }
   ],
   "source": [
    "sns.countplot(x=\"level\", hue=\"Downgrade\", data=churn_level_pd)\n",
    "plt.xlabel(\"level\")\n",
    "plt.ylabel(\"Number of Users\")\n",
    "plt.title(\"Count of downgrade and non-downgrade by level\")"
   ]
  },
  {
   "cell_type": "markdown",
   "metadata": {},
   "source": [
    "# Feature Engineering\n",
    "Once you've familiarized yourself with the data, build out the features you find promising to train your model on. To work with the full dataset, you can follow the following steps.\n",
    "- Write a script to extract the necessary features from the smaller subset of data\n",
    "- Ensure that your script is scalable, using the best practices discussed in Lesson 3\n",
    "- Try your script on the full data set, debugging your script if necessary\n",
    "\n",
    "#### I am gonna trasfer following category features to dummy values:<br>\n",
    "Gender: 1 for female, 0 for male<br>\n",
    "level: 1 for paid, 0 for free<br>\n",
    "\n",
    "#### Collect other useful feature:<br>\n",
    "artist: total number of artist each user listen to<br>\n",
    "length: total length of songs played by each users<br>\n",
    "songs: total number of songs played by eahc users<br>\n",
    "thumbs up: number of thumbs up<br>\n",
    "thumbs down: number of thumbs down<br>\n",
    "page: number of page visits for each user\n",
    "\n",
    "#### The target column will be:<br>\n",
    "Churn: 1 for churned, 0 for not churned<br>"
   ]
  },
  {
   "cell_type": "code",
   "execution_count": 63,
   "metadata": {},
   "outputs": [],
   "source": [
    "# pick up the target column\n",
    "df_target = df.groupby('userId').max(\"Churn\").withColumnRenamed(\"max(Churn)\", \"target\")"
   ]
  },
  {
   "cell_type": "code",
   "execution_count": 64,
   "metadata": {},
   "outputs": [
    {
     "name": "stdout",
     "output_type": "stream",
     "text": [
      "+------+------+\n",
      "|userId|target|\n",
      "+------+------+\n",
      "|100010|     0|\n",
      "|200002|     0|\n",
      "|   125|     1|\n",
      "|    51|     1|\n",
      "|   124|     0|\n",
      "+------+------+\n",
      "only showing top 5 rows\n",
      "\n"
     ]
    }
   ],
   "source": [
    "df_target.show(5)"
   ]
  },
  {
   "cell_type": "markdown",
   "metadata": {},
   "source": [
    "### 1. Gender"
   ]
  },
  {
   "cell_type": "code",
   "execution_count": 65,
   "metadata": {},
   "outputs": [
    {
     "name": "stdout",
     "output_type": "stream",
     "text": [
      "+------+\n",
      "|gender|\n",
      "+------+\n",
      "|     0|\n",
      "|     0|\n",
      "|     0|\n",
      "|     0|\n",
      "|     0|\n",
      "+------+\n",
      "only showing top 5 rows\n",
      "\n"
     ]
    }
   ],
   "source": [
    "# transfer gender column\n",
    "transform_gender = udf(lambda x: 1 if x == 'F' else 0, IntegerType())\n",
    "df= df.withColumn(\"gender\", transform_gender(\"gender\"))\n",
    "df.select('gender').show(5)"
   ]
  },
  {
   "cell_type": "code",
   "execution_count": 66,
   "metadata": {},
   "outputs": [
    {
     "name": "stdout",
     "output_type": "stream",
     "text": [
      "+------+------+\n",
      "|userId|gender|\n",
      "+------+------+\n",
      "|100010|     1|\n",
      "|200002|     0|\n",
      "|   125|     0|\n",
      "|    51|     0|\n",
      "|   124|     1|\n",
      "+------+------+\n",
      "only showing top 5 rows\n",
      "\n"
     ]
    }
   ],
   "source": [
    "# collect gender for each user\n",
    "user_gender = df.groupby('userId').agg({\"gender\": \"max\"}).withColumnRenamed(\"max(gender)\", \"gender\")\n",
    "user_gender.show(5)"
   ]
  },
  {
   "cell_type": "code",
   "execution_count": 67,
   "metadata": {},
   "outputs": [
    {
     "name": "stdout",
     "output_type": "stream",
     "text": [
      "+------+\n",
      "|gender|\n",
      "+------+\n",
      "|     1|\n",
      "|     0|\n",
      "+------+\n",
      "\n"
     ]
    }
   ],
   "source": [
    "user_gender.select('gender').dropDuplicates().show()"
   ]
  },
  {
   "cell_type": "code",
   "execution_count": 68,
   "metadata": {},
   "outputs": [
    {
     "name": "stdout",
     "output_type": "stream",
     "text": [
      "+------+------+------+\n",
      "|userId|target|gender|\n",
      "+------+------+------+\n",
      "|100010|     0|     1|\n",
      "|200002|     0|     0|\n",
      "|   125|     1|     0|\n",
      "|   124|     0|     1|\n",
      "|    51|     1|     0|\n",
      "+------+------+------+\n",
      "only showing top 5 rows\n",
      "\n"
     ]
    }
   ],
   "source": [
    "# merge dataframe with total dataframe\n",
    "df_total = df_target.join(user_gender, ['userId'])\n",
    "df_total.show(5)"
   ]
  },
  {
   "cell_type": "markdown",
   "metadata": {},
   "source": [
    "### 2.Level"
   ]
  },
  {
   "cell_type": "code",
   "execution_count": 69,
   "metadata": {},
   "outputs": [
    {
     "name": "stdout",
     "output_type": "stream",
     "text": [
      "+-----+\n",
      "|level|\n",
      "+-----+\n",
      "|    1|\n",
      "|    0|\n",
      "|    1|\n",
      "|    0|\n",
      "|    1|\n",
      "+-----+\n",
      "only showing top 5 rows\n",
      "\n"
     ]
    }
   ],
   "source": [
    "# transfer level column\n",
    "transform_level = udf(lambda x: 1 if x == 'paid' else 0, IntegerType())\n",
    "df= df.withColumn(\"level\", transform_level(\"level\"))\n",
    "df.select('level').show(5)"
   ]
  },
  {
   "cell_type": "code",
   "execution_count": 70,
   "metadata": {},
   "outputs": [
    {
     "name": "stdout",
     "output_type": "stream",
     "text": [
      "+------+-----+\n",
      "|userId|level|\n",
      "+------+-----+\n",
      "|100010|    0|\n",
      "|200002|    1|\n",
      "|   125|    0|\n",
      "|    51|    1|\n",
      "|   124|    1|\n",
      "+------+-----+\n",
      "only showing top 5 rows\n",
      "\n"
     ]
    }
   ],
   "source": [
    "# collect gender for each user\n",
    "user_level = df.groupby('userId').agg({\"level\": \"max\"}).withColumnRenamed(\"max(level)\", \"level\")\n",
    "user_level.show(5)"
   ]
  },
  {
   "cell_type": "code",
   "execution_count": 71,
   "metadata": {},
   "outputs": [
    {
     "name": "stdout",
     "output_type": "stream",
     "text": [
      "+-----+\n",
      "|level|\n",
      "+-----+\n",
      "|    1|\n",
      "|    0|\n",
      "+-----+\n",
      "\n"
     ]
    }
   ],
   "source": [
    "user_level.select('level').dropDuplicates().show()"
   ]
  },
  {
   "cell_type": "code",
   "execution_count": 72,
   "metadata": {},
   "outputs": [
    {
     "name": "stdout",
     "output_type": "stream",
     "text": [
      "+------+------+------+-----+\n",
      "|userId|target|gender|level|\n",
      "+------+------+------+-----+\n",
      "|100010|     0|     1|    0|\n",
      "|200002|     0|     0|    1|\n",
      "|   125|     1|     0|    0|\n",
      "|   124|     0|     1|    1|\n",
      "|    51|     1|     0|    1|\n",
      "+------+------+------+-----+\n",
      "only showing top 5 rows\n",
      "\n"
     ]
    }
   ],
   "source": [
    "# merge dataframe \n",
    "df_total = df_total.join(user_level, ['userId'])\n",
    "df_total.show(5)"
   ]
  },
  {
   "cell_type": "markdown",
   "metadata": {},
   "source": [
    "### 3.Artist"
   ]
  },
  {
   "cell_type": "code",
   "execution_count": 73,
   "metadata": {},
   "outputs": [
    {
     "name": "stdout",
     "output_type": "stream",
     "text": [
      "+------+------------+\n",
      "|userId|artist_count|\n",
      "+------+------------+\n",
      "|100010|         275|\n",
      "|200002|         387|\n",
      "|   125|           8|\n",
      "|    51|        2111|\n",
      "|   124|        4079|\n",
      "+------+------------+\n",
      "only showing top 5 rows\n",
      "\n"
     ]
    }
   ],
   "source": [
    "user_artist = df.groupby(\"userId\").agg({\"artist\": \"count\"}).withColumnRenamed(\"count(artist)\", \"artist_count\")\n",
    "user_artist.show(5)"
   ]
  },
  {
   "cell_type": "code",
   "execution_count": 74,
   "metadata": {},
   "outputs": [
    {
     "name": "stdout",
     "output_type": "stream",
     "text": [
      "+------+------+------+-----+------------+\n",
      "|userId|target|gender|level|artist_count|\n",
      "+------+------+------+-----+------------+\n",
      "|100010|     0|     1|    0|         275|\n",
      "|200002|     0|     0|    1|         387|\n",
      "|   125|     1|     0|    0|           8|\n",
      "|   124|     0|     1|    1|        4079|\n",
      "|    51|     1|     0|    1|        2111|\n",
      "+------+------+------+-----+------------+\n",
      "only showing top 5 rows\n",
      "\n"
     ]
    }
   ],
   "source": [
    "# merge dataframe with total dataframe\n",
    "df_total = df_total.join(user_artist, ['userId'])\n",
    "df_total.show(5)"
   ]
  },
  {
   "cell_type": "markdown",
   "metadata": {},
   "source": [
    "### 4. Songs"
   ]
  },
  {
   "cell_type": "code",
   "execution_count": 75,
   "metadata": {},
   "outputs": [
    {
     "name": "stdout",
     "output_type": "stream",
     "text": [
      "+------+----------+\n",
      "|userId|song_count|\n",
      "+------+----------+\n",
      "|100010|       275|\n",
      "|200002|       387|\n",
      "|   125|         8|\n",
      "|    51|      2111|\n",
      "|   124|      4079|\n",
      "+------+----------+\n",
      "only showing top 5 rows\n",
      "\n"
     ]
    }
   ],
   "source": [
    "user_song = df.groupby(\"userId\").agg({\"song\": \"count\"}).withColumnRenamed(\"count(song)\", \"song_count\")\n",
    "user_song.show(5)"
   ]
  },
  {
   "cell_type": "code",
   "execution_count": 76,
   "metadata": {},
   "outputs": [
    {
     "name": "stdout",
     "output_type": "stream",
     "text": [
      "+------+------+------+-----+------------+----------+\n",
      "|userId|target|gender|level|artist_count|song_count|\n",
      "+------+------+------+-----+------------+----------+\n",
      "|100010|     0|     1|    0|         275|       275|\n",
      "|200002|     0|     0|    1|         387|       387|\n",
      "|   125|     1|     0|    0|           8|         8|\n",
      "|   124|     0|     1|    1|        4079|      4079|\n",
      "|    51|     1|     0|    1|        2111|      2111|\n",
      "+------+------+------+-----+------------+----------+\n",
      "only showing top 5 rows\n",
      "\n"
     ]
    }
   ],
   "source": [
    "# merge dataframe with total dataframe\n",
    "df_total = df_total.join(user_song, ['userId'])\n",
    "df_total.show(5)"
   ]
  },
  {
   "cell_type": "markdown",
   "metadata": {},
   "source": [
    "### 5. Length"
   ]
  },
  {
   "cell_type": "code",
   "execution_count": 77,
   "metadata": {},
   "outputs": [
    {
     "name": "stdout",
     "output_type": "stream",
     "text": [
      "+------+------------------+\n",
      "|userId|            length|\n",
      "+------+------------------+\n",
      "|100010| 66940.89735000003|\n",
      "|200002| 94008.87593999993|\n",
      "|   125|2089.1131000000005|\n",
      "|    51| 523275.8428000004|\n",
      "|   124|1012312.0927899999|\n",
      "+------+------------------+\n",
      "only showing top 5 rows\n",
      "\n"
     ]
    }
   ],
   "source": [
    "user_length = df.groupby(\"userId\").agg({\"length\": \"sum\"}).withColumnRenamed(\"sum(length)\", \"length\")\n",
    "user_length.show(5)"
   ]
  },
  {
   "cell_type": "code",
   "execution_count": 78,
   "metadata": {},
   "outputs": [
    {
     "name": "stdout",
     "output_type": "stream",
     "text": [
      "+------+------+------+-----+------------+----------+------------------+\n",
      "|userId|target|gender|level|artist_count|song_count|            length|\n",
      "+------+------+------+-----+------------+----------+------------------+\n",
      "|100010|     0|     1|    0|         275|       275| 66940.89735000003|\n",
      "|200002|     0|     0|    1|         387|       387| 94008.87593999993|\n",
      "|   125|     1|     0|    0|           8|         8|2089.1131000000005|\n",
      "|   124|     0|     1|    1|        4079|      4079|1012312.0927899999|\n",
      "|    51|     1|     0|    1|        2111|      2111| 523275.8428000004|\n",
      "+------+------+------+-----+------------+----------+------------------+\n",
      "only showing top 5 rows\n",
      "\n"
     ]
    }
   ],
   "source": [
    "# merge dataframe with total dataframe\n",
    "df_total = df_total.join(user_length, ['userId'])\n",
    "df_total.show(5)"
   ]
  },
  {
   "cell_type": "markdown",
   "metadata": {},
   "source": [
    "### 6.Thumbs up"
   ]
  },
  {
   "cell_type": "code",
   "execution_count": 79,
   "metadata": {},
   "outputs": [
    {
     "name": "stdout",
     "output_type": "stream",
     "text": [
      "+------+--------+\n",
      "|userId|thumb_up|\n",
      "+------+--------+\n",
      "|100010|      17|\n",
      "|200002|      21|\n",
      "|    51|     100|\n",
      "|   124|     171|\n",
      "|     7|       7|\n",
      "+------+--------+\n",
      "only showing top 5 rows\n",
      "\n"
     ]
    }
   ],
   "source": [
    "user_thumbs_up = df.filter(df[\"page\"] == 'Thumbs Up').groupby('userId').count().withColumnRenamed(\"count\", \"thumb_up\")\n",
    "user_thumbs_up.show(5)"
   ]
  },
  {
   "cell_type": "code",
   "execution_count": 80,
   "metadata": {},
   "outputs": [
    {
     "name": "stdout",
     "output_type": "stream",
     "text": [
      "+------+------+------+-----+------------+----------+------------------+--------+\n",
      "|userId|target|gender|level|artist_count|song_count|            length|thumb_up|\n",
      "+------+------+------+-----+------------+----------+------------------+--------+\n",
      "|100010|     0|     1|    0|         275|       275| 66940.89735000003|      17|\n",
      "|200002|     0|     0|    1|         387|       387| 94008.87593999993|      21|\n",
      "|   124|     0|     1|    1|        4079|      4079|1012312.0927899999|     171|\n",
      "|    51|     1|     0|    1|        2111|      2111| 523275.8428000004|     100|\n",
      "|     7|     0|     0|    0|         150|       150| 38034.08710000002|       7|\n",
      "+------+------+------+-----+------------+----------+------------------+--------+\n",
      "only showing top 5 rows\n",
      "\n"
     ]
    }
   ],
   "source": [
    "# merge dataframe with total dataframe\n",
    "df_total = df_total.join(user_thumbs_up, ['userId'])\n",
    "df_total.show(5)"
   ]
  },
  {
   "cell_type": "markdown",
   "metadata": {},
   "source": [
    "### 7.Thumbs Down"
   ]
  },
  {
   "cell_type": "code",
   "execution_count": 81,
   "metadata": {},
   "outputs": [
    {
     "name": "stdout",
     "output_type": "stream",
     "text": [
      "+------+----------+\n",
      "|userId|thumb_down|\n",
      "+------+----------+\n",
      "|100010|         5|\n",
      "|200002|         6|\n",
      "|    51|        21|\n",
      "|   124|        41|\n",
      "|     7|         1|\n",
      "+------+----------+\n",
      "only showing top 5 rows\n",
      "\n"
     ]
    }
   ],
   "source": [
    "user_thumbs_down = df.filter(df[\"page\"] == 'Thumbs Down').groupby('userId').count().withColumnRenamed(\"count\", \"thumb_down\")\n",
    "user_thumbs_down.show(5)"
   ]
  },
  {
   "cell_type": "code",
   "execution_count": 82,
   "metadata": {},
   "outputs": [
    {
     "name": "stdout",
     "output_type": "stream",
     "text": [
      "+------+------+------+-----+------------+----------+------------------+--------+----------+\n",
      "|userId|target|gender|level|artist_count|song_count|            length|thumb_up|thumb_down|\n",
      "+------+------+------+-----+------------+----------+------------------+--------+----------+\n",
      "|100010|     0|     1|    0|         275|       275| 66940.89735000003|      17|         5|\n",
      "|200002|     0|     0|    1|         387|       387| 94008.87593999993|      21|         6|\n",
      "|   124|     0|     1|    1|        4079|      4079|1012312.0927899999|     171|        41|\n",
      "|    51|     1|     0|    1|        2111|      2111| 523275.8428000004|     100|        21|\n",
      "|     7|     0|     0|    0|         150|       150| 38034.08710000002|       7|         1|\n",
      "+------+------+------+-----+------------+----------+------------------+--------+----------+\n",
      "only showing top 5 rows\n",
      "\n"
     ]
    }
   ],
   "source": [
    "# merge dataframe with total dataframe\n",
    "df_total = df_total.join(user_thumbs_down, ['userId'])\n",
    "df_total.show(5)"
   ]
  },
  {
   "cell_type": "markdown",
   "metadata": {},
   "source": [
    "### 8. Page visit total"
   ]
  },
  {
   "cell_type": "code",
   "execution_count": 83,
   "metadata": {},
   "outputs": [
    {
     "name": "stdout",
     "output_type": "stream",
     "text": [
      "+------+----------+\n",
      "|userId|page_count|\n",
      "+------+----------+\n",
      "|100010|       381|\n",
      "|200002|       474|\n",
      "|   125|        11|\n",
      "|    51|      2464|\n",
      "|   124|      4825|\n",
      "+------+----------+\n",
      "only showing top 5 rows\n",
      "\n"
     ]
    }
   ],
   "source": [
    "user_page = df.groupby(\"userId\").agg({\"page\": \"count\"}).withColumnRenamed(\"count(page)\", \"page_count\")\n",
    "user_page.show(5)"
   ]
  },
  {
   "cell_type": "code",
   "execution_count": 84,
   "metadata": {},
   "outputs": [
    {
     "name": "stdout",
     "output_type": "stream",
     "text": [
      "+------+------+------+-----+------------+----------+------------------+--------+----------+----------+\n",
      "|userId|target|gender|level|artist_count|song_count|            length|thumb_up|thumb_down|page_count|\n",
      "+------+------+------+-----+------------+----------+------------------+--------+----------+----------+\n",
      "|100010|     0|     1|    0|         275|       275| 66940.89735000003|      17|         5|       381|\n",
      "|200002|     0|     0|    1|         387|       387| 94008.87593999993|      21|         6|       474|\n",
      "|   124|     0|     1|    1|        4079|      4079|1012312.0927899999|     171|        41|      4825|\n",
      "|    51|     1|     0|    1|        2111|      2111| 523275.8428000004|     100|        21|      2464|\n",
      "|     7|     0|     0|    0|         150|       150| 38034.08710000002|       7|         1|       201|\n",
      "+------+------+------+-----+------------+----------+------------------+--------+----------+----------+\n",
      "only showing top 5 rows\n",
      "\n"
     ]
    }
   ],
   "source": [
    "# merge dataframe with total dataframe\n",
    "df_total = df_total.join(user_page, ['userId'])\n",
    "df_total.show(5)"
   ]
  },
  {
   "cell_type": "markdown",
   "metadata": {},
   "source": [
    "# Modeling\n",
    "Split the full dataset into train, test, and validation sets. Test out several of the machine learning methods you learned. Evaluate the accuracy of the various models, tuning parameters as necessary. Determine your winning model based on test accuracy and report results on the validation set. Since the churned users are a fairly small subset, I suggest using F1 score as the metric to optimize."
   ]
  },
  {
   "cell_type": "code",
   "execution_count": 155,
   "metadata": {},
   "outputs": [],
   "source": [
    "from pyspark.ml import Pipeline\n",
    "from pyspark.ml.classification import LogisticRegression,RandomForestClassifier, GBTClassifier\n",
    "from pyspark.ml.evaluation import MulticlassClassificationEvaluator\n",
    "from pyspark.ml.feature import MinMaxScaler,VectorAssembler\n",
    "from pyspark.ml.tuning import CrossValidator, ParamGridBuilder\n",
    "\n",
    "import re"
   ]
  },
  {
   "cell_type": "code",
   "execution_count": 86,
   "metadata": {},
   "outputs": [],
   "source": [
    "df_model = df_total.drop(\"userID\")"
   ]
  },
  {
   "cell_type": "code",
   "execution_count": 87,
   "metadata": {},
   "outputs": [],
   "source": [
    "df_features = df_model.drop('target')\n",
    "features = df_features.columns"
   ]
  },
  {
   "cell_type": "markdown",
   "metadata": {},
   "source": [
    "### Train Test Split"
   ]
  },
  {
   "cell_type": "code",
   "execution_count": 88,
   "metadata": {},
   "outputs": [],
   "source": [
    "rest, validation = df_model.randomSplit([0.9, 0.1], seed=42)"
   ]
  },
  {
   "cell_type": "markdown",
   "metadata": {},
   "source": [
    "### Building Pipeline"
   ]
  },
  {
   "cell_type": "code",
   "execution_count": 158,
   "metadata": {},
   "outputs": [],
   "source": [
    "def ml_model(model):\n",
    "    assembler = VectorAssembler(inputCols=features, outputCol=\"NumFeatures\")\n",
    "    scaler = MinMaxScaler(inputCol=\"NumFeatures\", outputCol=\"ScaledNumFeatures2\")\n",
    "    pipeline = Pipeline(stages=[assembler, scaler, model])\n",
    "    \n",
    "    paramGrid = ParamGridBuilder().build()\n",
    "    \n",
    "    crossval = CrossValidator(estimator=pipeline,\n",
    "                          estimatorParamMaps=paramGrid,\n",
    "                          evaluator=MulticlassClassificationEvaluator(labelCol='target', metricName='f1'),\n",
    "                          numFolds=3)\n",
    "    return crossval"
   ]
  },
  {
   "cell_type": "code",
   "execution_count": 159,
   "metadata": {},
   "outputs": [],
   "source": [
    "# logistic Regression\n",
    "lr = LogisticRegression(featuresCol=\"ScaledNumFeatures2\", labelCol=\"target\")\n",
    "model = ml_model(lr)\n",
    "result = model.fit(rest)"
   ]
  },
  {
   "cell_type": "code",
   "execution_count": 160,
   "metadata": {},
   "outputs": [],
   "source": [
    "# Random Forest Classifier\n",
    "rf = RandomForestClassifier(featuresCol=\"ScaledNumFeatures2\", labelCol=\"target\")\n",
    "rf_model = ml_model(rf)\n",
    "result_2 = rf_model.fit(rest)"
   ]
  },
  {
   "cell_type": "code",
   "execution_count": 161,
   "metadata": {},
   "outputs": [],
   "source": [
    "# GBT\n",
    "gbt =GBTClassifier(featuresCol=\"ScaledNumFeatures2\", labelCol=\"target\")\n",
    "gbt_model = ml_model(gbt)\n",
    "result_3 = gbt_model.fit(rest)"
   ]
  },
  {
   "cell_type": "markdown",
   "metadata": {},
   "source": [
    "### finding the accuracy of the ml model"
   ]
  },
  {
   "cell_type": "code",
   "execution_count": 162,
   "metadata": {},
   "outputs": [],
   "source": [
    "def accuracy(results):\n",
    "    model_result = results.transform(validation)\n",
    "    right_pred = model_result.filter(model_result.target == model_result.prediction).count()\n",
    "    total = model_result.count()\n",
    "    accuracy = right_pred/total*100\n",
    "    \n",
    "    return (\"The accracy of the model is : {}%\".format(accuracy))"
   ]
  },
  {
   "cell_type": "code",
   "execution_count": 163,
   "metadata": {},
   "outputs": [
    {
     "data": {
      "text/plain": [
       "'The accracy of the model is : 60.0%'"
      ]
     },
     "execution_count": 163,
     "metadata": {},
     "output_type": "execute_result"
    }
   ],
   "source": [
    "# calculate the accuracy for different models\n",
    "#logistic regression\n",
    "accuracy(result)"
   ]
  },
  {
   "cell_type": "code",
   "execution_count": 165,
   "metadata": {},
   "outputs": [
    {
     "data": {
      "text/plain": [
       "'The accracy of the model is : 66.66666666666666%'"
      ]
     },
     "execution_count": 165,
     "metadata": {},
     "output_type": "execute_result"
    }
   ],
   "source": [
    "#Random Forest Classifier\n",
    "accuracy(result_2)"
   ]
  },
  {
   "cell_type": "code",
   "execution_count": 167,
   "metadata": {},
   "outputs": [
    {
     "data": {
      "text/plain": [
       "'The accracy of the model is : 66.66666666666666%'"
      ]
     },
     "execution_count": 167,
     "metadata": {},
     "output_type": "execute_result"
    }
   ],
   "source": [
    "#GBT\n",
    "accuracy(result_3)"
   ]
  },
  {
   "cell_type": "markdown",
   "metadata": {},
   "source": [
    "## Conclusion\n",
    "\n",
    "In this notebook, the dataset with the information of user using the Sparkify is being analyzed to predict whethere the user will continue their subscription with music playing application.<br>\n",
    "The whole project is conducted under the pyspark language. The data is cleaned and scaled for EDA and churn prediction. The churn action in this dataset is defined as the cancellation confirmation of the subscribtion,which is aroung 23% and the service downgrade in the payment, around 21%. In the meanwhile, the gender, level and method have slightly impact on the churn action.<br>\n",
    "In the modeling section, according to above modeling comparison, the random forest and gbt algorithm shows better accurancy than logisstic regression. The accuracy of these model are all around 60%.<br>"
   ]
  },
  {
   "cell_type": "code",
   "execution_count": null,
   "metadata": {},
   "outputs": [],
   "source": []
  }
 ],
 "metadata": {
  "kernelspec": {
   "display_name": "Python 3",
   "language": "python",
   "name": "python3"
  },
  "language_info": {
   "codemirror_mode": {
    "name": "ipython",
    "version": 3
   },
   "file_extension": ".py",
   "mimetype": "text/x-python",
   "name": "python",
   "nbconvert_exporter": "python",
   "pygments_lexer": "ipython3",
   "version": "3.6.3"
  }
 },
 "nbformat": 4,
 "nbformat_minor": 2
}
